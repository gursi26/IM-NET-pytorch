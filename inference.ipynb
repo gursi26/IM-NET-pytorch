{
 "cells": [
  {
   "cell_type": "code",
   "execution_count": 2,
   "metadata": {},
   "outputs": [],
   "source": [
    "from utils import initialize_enc_dec, create_coord_map\n",
    "from dataset import ReconstructionDataset\n",
    "import torch\n",
    "import matplotlib.pyplot as plt\n",
    "import cv2\n",
    "import numpy as np"
   ]
  },
  {
   "cell_type": "code",
   "execution_count": 3,
   "metadata": {},
   "outputs": [
    {
     "data": {
      "text/plain": [
       "<All keys matched successfully>"
      ]
     },
     "execution_count": 3,
     "metadata": {},
     "output_type": "execute_result"
    }
   ],
   "source": [
    "Z_DIM = 32\n",
    "DEV = torch.device(\"mps\")\n",
    "\n",
    "dataset = ReconstructionDataset()\n",
    "\n",
    "enc, dec = initialize_enc_dec(Z_DIM, DEV)\n",
    "enc.load_state_dict(torch.load(\"weights/enc_res_28_epoch_34.pt\", map_location=\"mps\"))\n",
    "dec.load_state_dict(torch.load(\"weights/dec_res_28_epoch_34.pt\", map_location=\"mps\"))"
   ]
  },
  {
   "cell_type": "code",
   "execution_count": 4,
   "metadata": {},
   "outputs": [
    {
     "data": {
      "image/png": "[encoded data removed]",
      "text/plain": [
       "<Figure size 500x300 with 2 Axes>"
      ]
     },
     "metadata": {},
     "output_type": "display_data"
    }
   ],
   "source": [
    "sample_input1 = dataset[126][0]\n",
    "sample_input2 = dataset[130][0]\n",
    "\n",
    "fig, ax = plt.subplots(nrows = 1, ncols = 2, figsize = (5, 3))\n",
    "ax = ax.flatten()\n",
    "\n",
    "ax[0].imshow(sample_input1[0])\n",
    "ax[1].imshow(sample_input2[0])\n",
    "plt.show()"
   ]
  },
  {
   "cell_type": "code",
   "execution_count": 10,
   "metadata": {},
   "outputs": [],
   "source": [
    "features1 = enc(sample_input1.to(DEV))\n",
    "features2 = enc(sample_input2.to(DEV))\n",
    "res = 128\n",
    "inference_coord_map = create_coord_map(res).unsqueeze(0).to(DEV)\n",
    "\n",
    "feature_diff = features2 - features1\n",
    "frames = 50\n",
    "frame_diff = feature_diff / frames\n",
    "\n",
    "fourcc = cv2.VideoWriter_fourcc('M','J','P','G')\n",
    "writer = cv2.VideoWriter(\"outputs/superres_output.avi\", fourcc, 15, (res, res), 0)\n",
    "\n",
    "for i in range(frames):\n",
    "    output = dec(features1 + i * frame_diff, inference_coord_map).view(res, res)\n",
    "    writer.write((output.view(res, res).repeat(1, 1).detach().cpu().numpy() * 255).astype(np.uint8))\n",
    "writer.release()"
   ]
  }
 ],
 "metadata": {
  "kernelspec": {
   "display_name": "ml",
   "language": "python",
   "name": "python3"
  },
  "language_info": {
   "codemirror_mode": {
    "name": "ipython",
    "version": 3
   },
   "file_extension": ".py",
   "mimetype": "text/x-python",
   "name": "python",
   "nbconvert_exporter": "python",
   "pygments_lexer": "ipython3",
   "version": "3.11.7"
  }
 },
 "nbformat": 4,
 "nbformat_minor": 2
}
